{
 "cells": [
  {
   "cell_type": "code",
   "execution_count": 1,
   "metadata": {},
   "outputs": [],
   "source": [
    "from bs4 import BeautifulSoup\n",
    "import pandas as pd\n",
    "import requests"
   ]
  },
  {
   "cell_type": "code",
   "execution_count": 2,
   "metadata": {},
   "outputs": [],
   "source": [
    "#get the http request and load it into beautifulsoup\n",
    "req = requests.get(\"https://www.mobafire.com/league-of-legends/skins\")\n",
    "html = req.text\n",
    "soup = BeautifulSoup(html, \"lxml\")\n",
    "#with open(\"hetteam.html\") as f:\n",
    "    #soup = BeautifulSoup(f, \"lxml\")"
   ]
  },
  {
   "cell_type": "code",
   "execution_count": 3,
   "metadata": {},
   "outputs": [],
   "source": [
    "#content > div > div.self-clear.mf-redesign > div:nth-child(2) > div > a:nth-child(4) > div.champ-skins__item__meta > h3\n"
   ]
  },
  {
   "cell_type": "code",
   "execution_count": 17,
   "metadata": {},
   "outputs": [],
   "source": [
    "menu_list = []\n",
    "for i in range(27):\n",
    "    req = requests.get(f\"https://www.mobafire.com/league-of-legends/skins?page={i}\")\n",
    "    html = req.text\n",
    "    soup = BeautifulSoup(html, \"lxml\")\n",
    "    for i in range(46):\n",
    "        menu = soup.select(f\"#content > div > div.self-clear.mf-redesign > div:nth-child(2) > div > a:nth-child({i + 1})\")\n",
    "        img = soup.select(f'#content > div > div.self-clear.mf-redesign > div:nth-child(2) > div > a:nth-child({i + 1}) > img:nth-child(1)')\n",
    "        skin = soup.select(f'#content > div > div.self-clear.mf-redesign > div:nth-child(2) > div > a:nth-child({i + 1}) > div.champ-skins__item__meta > h3')\n",
    "        for menu_item in menu:\n",
    "            item = skin[0]\n",
    "            link = menu_item.get(\"href\")\n",
    "            imgage = img[0]\n",
    "            person ={\n",
    "                \"skin\" : item,\n",
    "                \"link\" : link,\n",
    "                'img' : str(img[0]).replace('<img src=\"', '').replace('\"/', '')\n",
    "            }\n",
    "            menu_list.append(person)"
   ]
  },
  {
   "cell_type": "code",
   "execution_count": 24,
   "metadata": {},
   "outputs": [],
   "source": [
    "for item in menu_list:\n",
    "    item['img'] = item['img'][:-1]\n",
    "    item['skin'] = str(item['skin']).replace('<h3>', '')\n",
    "    item['skin'] = str(item['skin']).replace('</h3>', '')"
   ]
  },
  {
   "cell_type": "code",
   "execution_count": 44,
   "metadata": {},
   "outputs": [],
   "source": [
    "for pic_url = 'https://www.mobafire.com/images/champion/skins/portrait/tristana-little-demon.jpg'\n",
    "with open('pic1.jpg', 'wb') as handle:\n",
    "        response = requests.get(pic_url, stream=True)\n",
    "\n",
    "        if not response.ok:\n",
    "            print(response)\n",
    "\n",
    "        for block in response.iter_content(1024):\n",
    "            if not block:\n",
    "                break\n",
    "\n",
    "            handle.write(block)"
   ]
  },
  {
   "cell_type": "code",
   "execution_count": 26,
   "metadata": {},
   "outputs": [],
   "source": [
    "import csv\n",
    "a_file = open(\"champskin.csv\", \"w\")\n",
    "\n",
    "writer = csv.writer(a_file)\n",
    "for skin in menu_list:\n",
    "    for key, value in skin.items():\n",
    "        writer.writerow([key, value])\n",
    "\n",
    "a_file.close()"
   ]
  },
  {
   "cell_type": "code",
   "execution_count": 27,
   "metadata": {},
   "outputs": [],
   "source": [
    "df = pd.DataFrame(menu_list) "
   ]
  },
  {
   "cell_type": "code",
   "execution_count": 30,
   "metadata": {},
   "outputs": [],
   "source": [
    "df.to_csv('skinoutput.csv', sep=',', index=False)"
   ]
  },
  {
   "cell_type": "code",
   "execution_count": null,
   "metadata": {},
   "outputs": [],
   "source": []
  }
 ],
 "metadata": {
  "kernelspec": {
   "display_name": "Python 3",
   "language": "python",
   "name": "python3"
  },
  "language_info": {
   "codemirror_mode": {
    "name": "ipython",
    "version": 3
   },
   "file_extension": ".py",
   "mimetype": "text/x-python",
   "name": "python",
   "nbconvert_exporter": "python",
   "pygments_lexer": "ipython3",
   "version": "3.7.3"
  }
 },
 "nbformat": 4,
 "nbformat_minor": 4
}
